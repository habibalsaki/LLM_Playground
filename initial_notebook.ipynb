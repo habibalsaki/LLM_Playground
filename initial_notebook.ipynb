{
 "cells": [
  {
   "cell_type": "code",
   "execution_count": 1,
   "id": "28fd3bae",
   "metadata": {},
   "outputs": [],
   "source": [
    "from openai import OpenAI"
   ]
  },
  {
   "cell_type": "code",
   "execution_count": 2,
   "id": "4036a5c0",
   "metadata": {},
   "outputs": [],
   "source": [
    "import os"
   ]
  },
  {
   "cell_type": "code",
   "execution_count": 3,
   "id": "c8cb6719",
   "metadata": {},
   "outputs": [],
   "source": [
    "from dotenv import load_dotenv"
   ]
  },
  {
   "cell_type": "code",
   "execution_count": 4,
   "id": "1544c538",
   "metadata": {},
   "outputs": [
    {
     "data": {
      "text/plain": [
       "True"
      ]
     },
     "execution_count": 4,
     "metadata": {},
     "output_type": "execute_result"
    }
   ],
   "source": [
    "load_dotenv()"
   ]
  },
  {
   "cell_type": "code",
   "execution_count": 6,
   "id": "11013133",
   "metadata": {},
   "outputs": [],
   "source": [
    "client = OpenAI(api_key=os.getenv(\"api_key\"))"
   ]
  },
  {
   "cell_type": "code",
   "execution_count": 9,
   "id": "65b5df2b",
   "metadata": {},
   "outputs": [],
   "source": [
    "response = client.chat.completions.create(\n",
    "    model=\"gpt-4o\",\n",
    "    messages=[\n",
    "        {\"role\":\"user\", \"content\": \"Why it is disappointing to see that Bangladesh can't play good cricket?\"}\n",
    "    ]\n",
    ")"
   ]
  },
  {
   "cell_type": "code",
   "execution_count": 10,
   "id": "653e74e6",
   "metadata": {},
   "outputs": [
    {
     "name": "stdout",
     "output_type": "stream",
     "text": [
      "It's understandable that some fans and followers of cricket might feel disappointed if Bangladesh's cricket team doesn't perform as well as expected. Several factors could contribute to such feelings:\n",
      "\n",
      "1. **Potential and Talent**: Bangladesh has shown flashes of great potential and talent over the years, with players who have achieved significant milestones and victories. When the team doesn't perform consistently, it can be frustrating for fans who believe in the team's capabilities.\n",
      "\n",
      "2. **Expectations**: Over time, expectations have risen, especially after memorable wins against top teams. These successes raise hopes for consistent high-level performances.\n",
      "\n",
      "3. **Investment in Cricket**: The Bangladesh Cricket Board and other stakeholders have invested heavily in the sport's development. When investments do not seem to translate into consistent on-field success, it can be disappointing for fans and stakeholders.\n",
      "\n",
      "4. **Fan Support and Passion**: Bangladeshi fans are known for their passion and unwavering support for the team. When the team underperforms, this passionate fan base, which invests emotionally in the team's success, can feel let down.\n",
      "\n",
      "5. **Global Competitiveness**: As cricket is a highly competitive sport with countries across the globe making strides, any lack of progress or setbacks can seem more pronounced. Fans want their team to compete strongly on the international stage.\n",
      "\n",
      "6. **Inconsistency**: Teams that show inconsistency in performance may frustrate fans, as it becomes difficult to predict or hope for victories, which are important for national pride and the morale of supporters.\n",
      "\n",
      "7. **Development Programs**: Despite the presence of youth and development programs, if there’s little visible progress in nurturing and promoting young talents into successful international players, it can lead to disappointment.\n",
      "\n",
      "While these factors might lead to disappointment, it is important to remain supportive and optimistic. Many teams go through ups and downs, and with continued effort and development, there is always the potential for improvement and success in the future.\n"
     ]
    }
   ],
   "source": [
    "response_text = response.choices[0].message.content\n",
    "print(response_text)"
   ]
  }
 ],
 "metadata": {
  "kernelspec": {
   "display_name": ".venv",
   "language": "python",
   "name": "python3"
  },
  "language_info": {
   "codemirror_mode": {
    "name": "ipython",
    "version": 3
   },
   "file_extension": ".py",
   "mimetype": "text/x-python",
   "name": "python",
   "nbconvert_exporter": "python",
   "pygments_lexer": "ipython3",
   "version": "3.11.11"
  }
 },
 "nbformat": 4,
 "nbformat_minor": 5
}
